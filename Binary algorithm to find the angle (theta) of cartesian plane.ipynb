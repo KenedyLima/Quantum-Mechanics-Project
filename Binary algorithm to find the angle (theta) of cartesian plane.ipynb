{
 "cells": [
  {
   "cell_type": "markdown",
   "id": "70e6d274",
   "metadata": {},
   "source": [
    "# Programa codifica String em binário, salva esse valor como estado de um QBIT e teleporta através do Algorítmo de Teleporte Quântico"
   ]
  },
  {
   "cell_type": "markdown",
   "id": "b2456169",
   "metadata": {},
   "source": [
    "## Encode de String em binário"
   ]
  },
  {
   "cell_type": "code",
   "execution_count": 97,
   "id": "bee34f95",
   "metadata": {},
   "outputs": [
    {
     "name": "stdout",
     "output_type": "stream",
     "text": [
      "0.4547179341316223\n"
     ]
    }
   ],
   "source": [
    "\n",
    "binaryConcatenation = '011101000110100001100101'\n",
    "binaryAlgorithmSum = 0;\n",
    "for p in range(len(binaryConcatenation)):\n",
    "    value = calculateCharValue(p, binaryConcatenation[p])\n",
    "    binaryAlgorithmSum = binaryAlgorithmSum + value\n",
    "print(binaryAlgorithmSum)"
   ]
  },
  {
   "cell_type": "markdown",
   "id": "78f73c6e",
   "metadata": {},
   "source": [
    "## Método implementando a estratégia para cálculo da variação angular Theta"
   ]
  },
  {
   "cell_type": "code",
   "execution_count": 94,
   "id": "7d8d4d8c",
   "metadata": {},
   "outputs": [],
   "source": [
    "def calculateCharValue(position, bitValue):\n",
    "    value = 0\n",
    "    p = position + 1\n",
    "    try:\n",
    "        value = 1/(2**p) * int(bitValue)\n",
    "    except ZeroDivisionError:\n",
    "        value = 0\n",
    "    return value;"
   ]
  },
  {
   "cell_type": "code",
   "execution_count": null,
   "id": "ba13a5e5",
   "metadata": {},
   "outputs": [],
   "source": []
  }
 ],
 "metadata": {
  "kernelspec": {
   "display_name": "Python 3 (ipykernel)",
   "language": "python",
   "name": "python3"
  },
  "language_info": {
   "codemirror_mode": {
    "name": "ipython",
    "version": 3
   },
   "file_extension": ".py",
   "mimetype": "text/x-python",
   "name": "python",
   "nbconvert_exporter": "python",
   "pygments_lexer": "ipython3",
   "version": "3.9.13"
  }
 },
 "nbformat": 4,
 "nbformat_minor": 5
}
