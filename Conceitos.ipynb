{
 "cells": [
  {
   "cell_type": "markdown",
   "id": "ccf5f099",
   "metadata": {},
   "source": [
    "# Notação de Dirac e Algebra Linear\n",
    "\n",
    "- Vetores repesentados por Bra-ket(|>)\n",
    "- O Ket é represetando por uma matriz coluna e o Bra por uma matriz linha\n",
    "- Os valores que representam o Ket são complexos, já o Bra é o complexo conjugado do Ket\n",
    "- Podemos ter n bases ortonormais (Depende do sistema físico observado)\n",
    "- Números complexos não podem descrever propriedades físicas, portanto utilizamos estatística para descrever a mesma\n",
    "- Bracket é o produto interno de um vetor"
   ]
  },
  {
   "cell_type": "code",
   "execution_count": null,
   "id": "7c2e7a07",
   "metadata": {},
   "outputs": [],
   "source": []
  }
 ],
 "metadata": {
  "kernelspec": {
   "display_name": "Python 3 (ipykernel)",
   "language": "python",
   "name": "python3"
  },
  "language_info": {
   "codemirror_mode": {
    "name": "ipython",
    "version": 3
   },
   "file_extension": ".py",
   "mimetype": "text/x-python",
   "name": "python",
   "nbconvert_exporter": "python",
   "pygments_lexer": "ipython3",
   "version": "3.9.13"
  }
 },
 "nbformat": 4,
 "nbformat_minor": 5
}
