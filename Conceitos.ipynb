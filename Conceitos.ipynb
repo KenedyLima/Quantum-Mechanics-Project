{
 "cells": [
  {
   "cell_type": "markdown",
   "id": "3c88e45c",
   "metadata": {},
   "source": [
    "# Anotações de conceitos matemáticos e quânticos aprendidos durante durante o Projeto de Iniciação Científica"
   ]
  },
  {
   "cell_type": "markdown",
   "id": "7283974c",
   "metadata": {},
   "source": [
    "## Superposição"
   ]
  },
  {
   "cell_type": "markdown",
   "id": "ae0d7ce5",
   "metadata": {},
   "source": [
    "- No contexto de Bits Clássicos, Superposição pode ser definida como a soma de duas quantidades físicas para encontrar uma terceira (Ex: soma de ondas eletromagnéticas). \n",
    "- No contexto de Bits Quãnticos, Superposição acontece quando um sistema quântico está em multiplos estados simultaneamente.\n",
    "- Medir o estado de um Bit Quântico acaba com a superposição do mesmo, uma vez que ao observar-lo, só é possível retirar um resultado definido do estado do sistema.\n"
   ]
  },
  {
   "cell_type": "code",
   "execution_count": null,
   "id": "d2258e03",
   "metadata": {},
   "outputs": [],
   "source": []
  }
 ],
 "metadata": {
  "kernelspec": {
   "display_name": "Python 3 (ipykernel)",
   "language": "python",
   "name": "python3"
  },
  "language_info": {
   "codemirror_mode": {
    "name": "ipython",
    "version": 3
   },
   "file_extension": ".py",
   "mimetype": "text/x-python",
   "name": "python",
   "nbconvert_exporter": "python",
   "pygments_lexer": "ipython3",
   "version": "3.9.13"
  }
 },
 "nbformat": 4,
 "nbformat_minor": 5
}
