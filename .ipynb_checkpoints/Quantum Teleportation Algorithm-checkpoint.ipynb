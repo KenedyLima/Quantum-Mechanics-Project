{
 "cells": [
  {
   "cell_type": "markdown",
   "id": "e967425c",
   "metadata": {},
   "source": [
    "# O Algorítmo de Teleporte Quântico"
   ]
  },
  {
   "cell_type": "markdown",
   "id": "c12430c0",
   "metadata": {},
   "source": [
    "## The Big Idea"
   ]
  },
  {
   "cell_type": "markdown",
   "id": "435ba938",
   "metadata": {},
   "source": [
    "[\"stick man\"](assets/man.png)"
   ]
  },
  {
   "cell_type": "markdown",
   "id": "97cbef68",
   "metadata": {},
   "source": [
    "## O Algoritmo"
   ]
  },
  {
   "cell_type": "code",
   "execution_count": 3,
   "id": "58265f72",
   "metadata": {},
   "outputs": [
    {
     "name": "stdout",
     "output_type": "stream",
     "text": [
      "1\n"
     ]
    }
   ],
   "source": [
    "## Imports\n",
    "import qiskit\n",
    "from qiskit import QuantumCircuit\n",
    "from qiskit.visualization import plot_bloch_multivector\n",
    "\n",
    "\n",
    "qc = QuantumCircuit(3, 2);\n",
    "qc.x(1);\n",
    "\n",
    "qc.draw();"
   ]
  },
  {
   "cell_type": "code",
   "execution_count": null,
   "id": "d17489ea",
   "metadata": {},
   "outputs": [],
   "source": []
  }
 ],
 "metadata": {
  "kernelspec": {
   "display_name": "Python 3 (ipykernel)",
   "language": "python",
   "name": "python3"
  },
  "language_info": {
   "codemirror_mode": {
    "name": "ipython",
    "version": 3
   },
   "file_extension": ".py",
   "mimetype": "text/x-python",
   "name": "python",
   "nbconvert_exporter": "python",
   "pygments_lexer": "ipython3",
   "version": "3.9.13"
  }
 },
 "nbformat": 4,
 "nbformat_minor": 5
}
