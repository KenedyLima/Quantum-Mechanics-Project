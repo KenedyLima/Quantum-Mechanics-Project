{
 "cells": [
  {
   "cell_type": "markdown",
   "id": "697fe804",
   "metadata": {},
   "source": [
    "# Importando ferramentas necessárias"
   ]
  },
  {
   "cell_type": "code",
   "execution_count": 168,
   "id": "1c0eee68",
   "metadata": {},
   "outputs": [],
   "source": [
    "from qiskit import QuantumCircuit\n",
    "from qiskit import Aer\n",
    "from qiskit import assemble\n",
    "import numpy as num\n",
    "import matplotlib.pyplot as plt\n",
    "from qiskit.tools.monitor import job_monitor\n",
    "from qiskit.visualization import plot_histogram\n",
    "from qiskit.visualization import plot_bloch_multivector"
   ]
  },
  {
   "cell_type": "markdown",
   "id": "0ef9de4a",
   "metadata": {},
   "source": [
    "## Medindo qubits e escrevendo os resultados em bits clássicos usando measure_all()"
   ]
  },
  {
   "cell_type": "code",
   "execution_count": 169,
   "id": "af7aeff1",
   "metadata": {},
   "outputs": [],
   "source": [
    "qcOutput = QuantumCircuit(8)\n",
    "\n",
    "qcOutput.x(0)\n",
    "\n",
    "\n",
    "qcOutput.measure_all()"
   ]
  },
  {
   "cell_type": "markdown",
   "id": "06a2cc9a",
   "metadata": {},
   "source": [
    "## Porta lógica NOT"
   ]
  },
  {
   "cell_type": "code",
   "execution_count": 170,
   "id": "0e44b7e3",
   "metadata": {},
   "outputs": [],
   "source": [
    "qcEncode = QuantumCircuit(8);\n",
    "\n",
    "qcEncode.x(0);\n",
    "qcEncode.x(4);\n",
    "\n",
    "qcEncode.measure_all();"
   ]
  },
  {
   "cell_type": "markdown",
   "id": "afb27222",
   "metadata": {},
   "source": [
    "# Simples adicionador"
   ]
  },
  {
   "cell_type": "markdown",
   "id": "f063e2bf",
   "metadata": {},
   "source": [
    "## Porta lógica XOR"
   ]
  },
  {
   "cell_type": "code",
   "execution_count": 210,
   "id": "73b0e494",
   "metadata": {},
   "outputs": [],
   "source": [
    "circuit = QuantumCircuit(4, 2);\n",
    "\n",
    "\n",
    "circuit.x(0)\n",
    "circuit.x(1)\n",
    "\n",
    "circuit.barrier();\n",
    "\n",
    "# Aplicando portas XOR\n",
    "circuit.cx(0, 2);\n",
    "circuit.cx(1, 2);\n",
    "\n",
    "# Medindo Qubits e armazenando seus valores em CBIT\n"
   ]
  },
  {
   "attachments": {
    "Screenshot%20from%202022-12-07%2010-25-06.png": {
     "image/png": "[encoded data removed]"
    }
   },
   "cell_type": "markdown",
   "id": "590f031c",
   "metadata": {},
   "source": [
    "![Screenshot%20from%202022-12-07%2010-25-06.png](attachment:Screenshot%20from%202022-12-07%2010-25-06.png)"
   ]
  },
  {
   "cell_type": "code",
   "execution_count": null,
   "id": "9a89cd89",
   "metadata": {},
   "outputs": [],
   "source": [
    "circuit.draw()"
   ]
  },
  {
   "cell_type": "code",
   "execution_count": 185,
   "id": "10171165",
   "metadata": {},
   "outputs": [],
   "source": [
    "    ## Simula um computador quântico real\n",
    "    ##sim = Aer.get_backend(\"aer_simulator\")\n",
    "    ##qObj = assemble(circuit);\n",
    "    ##result = sim.run(qObj).result();\n",
    "    ##counts = result.get_counts()\n",
    "    ##plot_histogram(counts)"
   ]
  },
  {
   "cell_type": "markdown",
   "id": "b3ac73d6",
   "metadata": {},
   "source": [
    "## Porta lógica Toffoli"
   ]
  },
  {
   "cell_type": "code",
   "execution_count": 211,
   "id": "a538143b",
   "metadata": {},
   "outputs": [],
   "source": [
    "# Aplicando portas Toffoli\n",
    "circuit.ccx(0, 1, 3);\n",
    "circuit.barrier();\n",
    "circuit.measure(2, 0);\n",
    "circuit.measure(3, 1);"
   ]
  },
  {
   "cell_type": "markdown",
   "id": "5aa09945",
   "metadata": {},
   "source": [
    "## Desenha o circuito"
   ]
  },
  {
   "cell_type": "code",
   "execution_count": 212,
   "id": "2321f02c",
   "metadata": {},
   "outputs": [
    {
     "data": {
      "text/html": [
       "<pre style=\"word-wrap: normal;white-space: pre;background: #fff0;line-height: 1.1;font-family: &quot;Courier New&quot;,Courier,monospace\">     ┌───┐ ░                 ░       \n",
       "q_0: ┤ X ├─░───■─────────■───░───────\n",
       "     ├───┤ ░   │         │   ░       \n",
       "q_1: ┤ X ├─░───┼────■────■───░───────\n",
       "     └───┘ ░ ┌─┴─┐┌─┴─┐  │   ░ ┌─┐   \n",
       "q_2: ──────░─┤ X ├┤ X ├──┼───░─┤M├───\n",
       "           ░ └───┘└───┘┌─┴─┐ ░ └╥┘┌─┐\n",
       "q_3: ──────░───────────┤ X ├─░──╫─┤M├\n",
       "           ░           └───┘ ░  ║ └╥┘\n",
       "c: 2/═══════════════════════════╩══╩═\n",
       "                                0  1 </pre>"
      ],
      "text/plain": [
       "     ┌───┐ ░                 ░       \n",
       "q_0: ┤ X ├─░───■─────────■───░───────\n",
       "     ├───┤ ░   │         │   ░       \n",
       "q_1: ┤ X ├─░───┼────■────■───░───────\n",
       "     └───┘ ░ ┌─┴─┐┌─┴─┐  │   ░ ┌─┐   \n",
       "q_2: ──────░─┤ X ├┤ X ├──┼───░─┤M├───\n",
       "           ░ └───┘└───┘┌─┴─┐ ░ └╥┘┌─┐\n",
       "q_3: ──────░───────────┤ X ├─░──╫─┤M├\n",
       "           ░           └───┘ ░  ║ └╥┘\n",
       "c: 2/═══════════════════════════╩══╩═\n",
       "                                0  1 "
      ]
     },
     "execution_count": 212,
     "metadata": {},
     "output_type": "execute_result"
    }
   ],
   "source": [
    "circuit.draw()"
   ]
  },
  {
   "cell_type": "markdown",
   "id": "8f564dd3",
   "metadata": {},
   "source": [
    "# Plota o Histograma"
   ]
  },
  {
   "cell_type": "code",
   "execution_count": 214,
   "id": "5251a54b",
   "metadata": {},
   "outputs": [
    {
     "data": {
      "image/png": "[encoded data removed]",
      "text/plain": [
       "<Figure size 700x500 with 1 Axes>"
      ]
     },
     "execution_count": 214,
     "metadata": {},
     "output_type": "execute_result"
    }
   ],
   "source": [
    "    ## Simula um computador quântico real\n",
    "    sim = Aer.get_backend(\"aer_simulator\")\n",
    "    qObj = assemble(circuit);\n",
    "    result = sim.run(qObj).result();\n",
    "    counts = result.get_counts()\n",
    "    plot_histogram(counts)\n"
   ]
  },
  {
   "cell_type": "code",
   "execution_count": null,
   "id": "608506db",
   "metadata": {},
   "outputs": [],
   "source": []
  }
 ],
 "metadata": {
  "kernelspec": {
   "display_name": "Python 3 (ipykernel)",
   "language": "python",
   "name": "python3"
  },
  "language_info": {
   "codemirror_mode": {
    "name": "ipython",
    "version": 3
   },
   "file_extension": ".py",
   "mimetype": "text/x-python",
   "name": "python",
   "nbconvert_exporter": "python",
   "pygments_lexer": "ipython3",
   "version": "3.9.13"
  }
 },
 "nbformat": 4,
 "nbformat_minor": 5
}
