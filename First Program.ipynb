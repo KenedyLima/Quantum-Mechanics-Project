{
 "cells": [
  {
   "cell_type": "markdown",
   "id": "697fe804",
   "metadata": {},
   "source": [
    "# Importing necessary tools"
   ]
  },
  {
   "cell_type": "code",
   "execution_count": 18,
   "id": "1c0eee68",
   "metadata": {},
   "outputs": [],
   "source": [
    "from qiskit import QuantumCircuit\n",
    "from qiskit import Aer\n",
    "from qiskit import assemble\n",
    "import numpy as num\n",
    "import matplotlib.pyplot as plt\n",
    "from qiskit.tools.monitor import job_monitor\n",
    "from qiskit.visualization import plot_histogram\n",
    "from qiskit.visualization import plot_bloch_multivector"
   ]
  },
  {
   "cell_type": "markdown",
   "id": "0ef9de4a",
   "metadata": {},
   "source": [
    "## Measuring qubits and writing the results in classical bits using measure_all()"
   ]
  },
  {
   "cell_type": "code",
   "execution_count": 2,
   "id": "af7aeff1",
   "metadata": {},
   "outputs": [],
   "source": [
    "qcOutput = QuantumCircuit(8)\n",
    "\n",
    "qcOutput.measure_all()"
   ]
  },
  {
   "cell_type": "markdown",
   "id": "06a2cc9a",
   "metadata": {},
   "source": [
    "## Operation X in Qubits"
   ]
  },
  {
   "cell_type": "code",
   "execution_count": 3,
   "id": "0e44b7e3",
   "metadata": {},
   "outputs": [],
   "source": [
    "qcEncode = QuantumCircuit(8);\n",
    "\n",
    "qcEncode.x(0);\n",
    "qcEncode.x(4);\n",
    "\n",
    "qcEncode.measure_all();"
   ]
  },
  {
   "cell_type": "markdown",
   "id": "f063e2bf",
   "metadata": {},
   "source": [
    "## XOR Gate"
   ]
  },
  {
   "cell_type": "code",
   "execution_count": 75,
   "id": "73b0e494",
   "metadata": {},
   "outputs": [],
   "source": [
    "circuit = QuantumCircuit(4, 2);\n",
    "\n",
    "circuit.x(0);\n",
    "circuit.x(1);\n",
    "\n",
    "circuit.barrier();\n",
    "\n",
    "# Appling XOR Gates\n",
    "circuit.cx(0, 2);\n",
    "circuit.cx(1, 2);\n",
    "\n",
    "# Appling Toffoli Gate\n",
    "circuit.ccx(0, 1, 3);\n",
    "\n",
    "circuit.barrier();\n",
    "\n",
    "\n",
    "# Measuring Qubits and storing it's value into a CBIT\n",
    "\n",
    "circuit.measure(2,1);\n"
   ]
  },
  {
   "cell_type": "markdown",
   "id": "5aa09945",
   "metadata": {},
   "source": [
    "## Draw Circuit"
   ]
  },
  {
   "cell_type": "code",
   "execution_count": 78,
   "id": "2321f02c",
   "metadata": {},
   "outputs": [
    {
     "data": {
      "text/html": [
       "<pre style=\"word-wrap: normal;white-space: pre;background: #fff0;line-height: 1.1;font-family: &quot;Courier New&quot;,Courier,monospace\">     ┌───┐ ░                 ░    \n",
       "q_0: ┤ X ├─░───■─────────■───░────\n",
       "     ├───┤ ░   │         │   ░    \n",
       "q_1: ┤ X ├─░───┼────■────■───░────\n",
       "     └───┘ ░ ┌─┴─┐┌─┴─┐  │   ░ ┌─┐\n",
       "q_2: ──────░─┤ X ├┤ X ├──┼───░─┤M├\n",
       "           ░ └───┘└───┘┌─┴─┐ ░ └╥┘\n",
       "q_3: ──────░───────────┤ X ├─░──╫─\n",
       "           ░           └───┘ ░  ║ \n",
       "c: 2/═══════════════════════════╩═\n",
       "                                1 </pre>"
      ],
      "text/plain": [
       "     ┌───┐ ░                 ░    \n",
       "q_0: ┤ X ├─░───■─────────■───░────\n",
       "     ├───┤ ░   │         │   ░    \n",
       "q_1: ┤ X ├─░───┼────■────■───░────\n",
       "     └───┘ ░ ┌─┴─┐┌─┴─┐  │   ░ ┌─┐\n",
       "q_2: ──────░─┤ X ├┤ X ├──┼───░─┤M├\n",
       "           ░ └───┘└───┘┌─┴─┐ ░ └╥┘\n",
       "q_3: ──────░───────────┤ X ├─░──╫─\n",
       "           ░           └───┘ ░  ║ \n",
       "c: 2/═══════════════════════════╩═\n",
       "                                1 "
      ]
     },
     "execution_count": 78,
     "metadata": {},
     "output_type": "execute_result"
    }
   ],
   "source": [
    "circuit.draw()"
   ]
  },
  {
   "cell_type": "markdown",
   "id": "8f564dd3",
   "metadata": {},
   "source": [
    "# Plot an Histogram"
   ]
  },
  {
   "cell_type": "code",
   "execution_count": 77,
   "id": "5251a54b",
   "metadata": {},
   "outputs": [
    {
     "data": {
      "image/png": "[encoded data removed]",
      "text/plain": [
       "<Figure size 700x500 with 1 Axes>"
      ]
     },
     "execution_count": 77,
     "metadata": {},
     "output_type": "execute_result"
    }
   ],
   "source": [
    "\n",
    "    sim = Aer.get_backend(\"aer_simulator\")\n",
    "    qObj = assemble(circuit);\n",
    "    result = sim.run(qObj).result();\n",
    "    counts = result.get_counts()\n",
    "    plot_histogram(counts)\n"
   ]
  },
  {
   "cell_type": "code",
   "execution_count": null,
   "id": "608506db",
   "metadata": {},
   "outputs": [],
   "source": []
  }
 ],
 "metadata": {
  "kernelspec": {
   "display_name": "Python 3 (ipykernel)",
   "language": "python",
   "name": "python3"
  },
  "language_info": {
   "codemirror_mode": {
    "name": "ipython",
    "version": 3
   },
   "file_extension": ".py",
   "mimetype": "text/x-python",
   "name": "python",
   "nbconvert_exporter": "python",
   "pygments_lexer": "ipython3",
   "version": "3.9.13"
  }
 },
 "nbformat": 4,
 "nbformat_minor": 5
}
