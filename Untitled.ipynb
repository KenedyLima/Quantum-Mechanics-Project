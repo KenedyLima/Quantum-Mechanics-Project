{
 "cells": [
  {
   "cell_type": "markdown",
   "id": "426acc81",
   "metadata": {},
   "source": [
    "# Código Superdenso"
   ]
  },
  {
   "cell_type": "code",
   "execution_count": null,
   "id": "161921fe",
   "metadata": {},
   "outputs": [],
   "source": [
    "- Enquanto o Teleporte utiliza 2 bits clássico para enviar 1 qubit, o código superdenso utiliza 1 qubit para enviar 2 bits clássicos"
   ]
  }
 ],
 "metadata": {
  "kernelspec": {
   "display_name": "Python 3 (ipykernel)",
   "language": "python",
   "name": "python3"
  },
  "language_info": {
   "codemirror_mode": {
    "name": "ipython",
    "version": 3
   },
   "file_extension": ".py",
   "mimetype": "text/x-python",
   "name": "python",
   "nbconvert_exporter": "python",
   "pygments_lexer": "ipython3",
   "version": "3.9.13"
  }
 },
 "nbformat": 4,
 "nbformat_minor": 5
}
