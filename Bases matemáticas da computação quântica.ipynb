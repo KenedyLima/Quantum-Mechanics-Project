{
 "cells": [
  {
   "cell_type": "markdown",
   "id": "c720b054",
   "metadata": {},
   "source": [
    "# Introdução a Algebra Linear e a Teoria da Probabilidade"
   ]
  },
  {
   "cell_type": "markdown",
   "id": "a30ee802",
   "metadata": {},
   "source": [
    "- Probabilidade nos permite racionalizar situações de incerteza\n",
    "- O espaço amostral contém todos os possíveis resultados de um experimento probabilístico\n",
    "- Evento corresponde a um subconjunto do espaço amostral\n",
    "- Variáveis aleatórias associam um número real a cada elemento do espaço amostral.\n",
    "    - Podem ser Discretas ou Contínuas:\n",
    "    - Discreta: O espaço amostral associado a ele é um conjunto contável, podendo ser finito ou infinito.\n",
    "    - Contínua: O espaço amostral associado a ela é um conjunto incontável, portanto, infinito.\n",
    "- Propriedades do espaço amostral:\n",
    "    - Probabilidade não-negativa: A probabilidade de um evento occorrer deve ser igual ou maior que 0;\n",
    "    - Normalização: A soma das probabilidades de um espaço amostral é igual a 1;\n",
    "    - Aditividade: Se dois eventos são subconjuntos não iguais, então a probabilidade de ambos ocorrerem é igual a soma de suas probabilidade individuais. \n",
    "- Conjunto de medida nula é um evento cuja possibilidade de ocorrer é ínfima mas ainda existente. \n",
    "## Distribuição Binomial\n",
    "- Experimento probabilístico onde há somente duas possibilidades no espaço amostral.\n",
    "\n",
    "## Álgebra Linear\n",
    "- Estuda espaços vetoriais e operadores lineares que atuam nesse espaço\n",
    "- Mecânica quântica tem mais interesse no Espaço Vetorial dos números Complexos.\n",
    "    - Cada número complexo Z, possui seu complexo conjugado Z*:\n",
    "    $z = a + ib -> z^* = a - ib$\n",
    "    - Módulo de um número complexo: |z|"
   ]
  },
  {
   "cell_type": "code",
   "execution_count": null,
   "id": "1e690845",
   "metadata": {},
   "outputs": [],
   "source": []
  },
  {
   "cell_type": "code",
   "execution_count": null,
   "id": "d60be3f4",
   "metadata": {},
   "outputs": [],
   "source": []
  }
 ],
 "metadata": {
  "kernelspec": {
   "display_name": "Python 3 (ipykernel)",
   "language": "python",
   "name": "python3"
  },
  "language_info": {
   "codemirror_mode": {
    "name": "ipython",
    "version": 3
   },
   "file_extension": ".py",
   "mimetype": "text/x-python",
   "name": "python",
   "nbconvert_exporter": "python",
   "pygments_lexer": "ipython3",
   "version": "3.9.13"
  }
 },
 "nbformat": 4,
 "nbformat_minor": 5
}
